{
  "nbformat": 4,
  "nbformat_minor": 0,
  "metadata": {
    "colab": {
      "provenance": [],
      "gpuType": "T4",
      "include_colab_link": true
    },
    "kernelspec": {
      "name": "python3",
      "display_name": "Python 3"
    },
    "language_info": {
      "name": "python"
    },
    "accelerator": "GPU",
    "gpuClass": "standard"
  },
  "cells": [
    {
      "cell_type": "markdown",
      "metadata": {
        "id": "view-in-github",
        "colab_type": "text"
      },
      "source": [
        "<a href=\"https://colab.research.google.com/github/madotfx/try/blob/main/main.ipynb\" target=\"_parent\"><img src=\"https://colab.research.google.com/assets/colab-badge.svg\" alt=\"Open In Colab\"/></a>"
      ]
    },
    {
      "cell_type": "markdown",
      "source": [
        "## **Import Library and Dataset**"
      ],
      "metadata": {
        "id": "EwVSr7SxGCKx"
      }
    },
    {
      "cell_type": "code",
      "execution_count": null,
      "metadata": {
        "id": "WtI5BUEJNpVI"
      },
      "outputs": [],
      "source": [
        "#Import Library\n",
        "import numpy as np\n",
        "import tensorflow as tf\n",
        "import pandas as pd\n",
        "import matplotlib.pyplot as plt\n",
        "from tensorflow import keras\n",
        "from sklearn.model_selection import train_test_split\n",
        "from sklearn.metrics import confusion_matrix\n",
        "from sklearn.preprocessing import MinMaxScaler\n",
        "import seaborn as sns\n",
        "import joblib"
      ]
    },
    {
      "cell_type": "code",
      "source": [
        "from google.colab import drive\n",
        "drive.mount('/content/drive')"
      ],
      "metadata": {
        "colab": {
          "base_uri": "https://localhost:8080/"
        },
        "id": "hgfou0OoXer5",
        "outputId": "04eacf51-1c77-4054-d5b6-713c200b1790"
      },
      "execution_count": null,
      "outputs": [
        {
          "output_type": "stream",
          "name": "stdout",
          "text": [
            "Drive already mounted at /content/drive; to attempt to forcibly remount, call drive.mount(\"/content/drive\", force_remount=True).\n"
          ]
        }
      ]
    },
    {
      "cell_type": "markdown",
      "source": [
        "## **Data Preprocessing**"
      ],
      "metadata": {
        "id": "0tuSJ3N5KC9F"
      }
    },
    {
      "cell_type": "code",
      "source": [
        "# Read the data in the XLSX file using pandas\n",
        "file_path = '/content/drive/Shareddrives/Product_Base_Capstone/Machine_Learning/Dataset/Stunting Dataset.xlsx'\n",
        "df = pd.read_excel(file_path)"
      ],
      "metadata": {
        "id": "Rb-HGLsfolqW"
      },
      "execution_count": null,
      "outputs": []
    },
    {
      "cell_type": "code",
      "source": [
        "#Display Information of dataset\n",
        "df"
      ],
      "metadata": {
        "colab": {
          "base_uri": "https://localhost:8080/",
          "height": 423
        },
        "id": "rsEVKTnsJ1jZ",
        "outputId": "031d1969-5820-4f54-92cb-6c2d5482c2b8"
      },
      "execution_count": null,
      "outputs": [
        {
          "output_type": "execute_result",
          "data": {
            "text/plain": [
              "     Sex  Age  Birth Weight  Birth Length  Body Weight  Body Length  \\\n",
              "0      F   56           2.9            50         11.0         90.0   \n",
              "1      F   20           3.3            49         11.1         80.5   \n",
              "2      M    4           2.8            48          6.5         63.0   \n",
              "3      F   14           2.0            49          7.0         71.0   \n",
              "4      M   32           3.2            49         11.0         88.7   \n",
              "...   ..  ...           ...           ...          ...          ...   \n",
              "6495   M   53           2.9            49         15.0         96.0   \n",
              "6496   M    9           2.9            50          7.3         62.0   \n",
              "6497   F   20           1.8            48          7.3         73.0   \n",
              "6498   M   11           2.9            49          7.7         66.0   \n",
              "6499   F   14           2.9            49          6.5         66.0   \n",
              "\n",
              "     ASI Eksklusif Stunting  \n",
              "0              Yes       No  \n",
              "1               No       No  \n",
              "2               No       No  \n",
              "3              Yes       No  \n",
              "4              Yes       No  \n",
              "...            ...      ...  \n",
              "6495            No      Yes  \n",
              "6496            No      Yes  \n",
              "6497           Yes      Yes  \n",
              "6498            No      Yes  \n",
              "6499            No      Yes  \n",
              "\n",
              "[6500 rows x 8 columns]"
            ],
            "text/html": [
              "\n",
              "  <div id=\"df-8ee627bf-0716-4554-83d4-a6577b6b1211\">\n",
              "    <div class=\"colab-df-container\">\n",
              "      <div>\n",
              "<style scoped>\n",
              "    .dataframe tbody tr th:only-of-type {\n",
              "        vertical-align: middle;\n",
              "    }\n",
              "\n",
              "    .dataframe tbody tr th {\n",
              "        vertical-align: top;\n",
              "    }\n",
              "\n",
              "    .dataframe thead th {\n",
              "        text-align: right;\n",
              "    }\n",
              "</style>\n",
              "<table border=\"1\" class=\"dataframe\">\n",
              "  <thead>\n",
              "    <tr style=\"text-align: right;\">\n",
              "      <th></th>\n",
              "      <th>Sex</th>\n",
              "      <th>Age</th>\n",
              "      <th>Birth Weight</th>\n",
              "      <th>Birth Length</th>\n",
              "      <th>Body Weight</th>\n",
              "      <th>Body Length</th>\n",
              "      <th>ASI Eksklusif</th>\n",
              "      <th>Stunting</th>\n",
              "    </tr>\n",
              "  </thead>\n",
              "  <tbody>\n",
              "    <tr>\n",
              "      <th>0</th>\n",
              "      <td>F</td>\n",
              "      <td>56</td>\n",
              "      <td>2.9</td>\n",
              "      <td>50</td>\n",
              "      <td>11.0</td>\n",
              "      <td>90.0</td>\n",
              "      <td>Yes</td>\n",
              "      <td>No</td>\n",
              "    </tr>\n",
              "    <tr>\n",
              "      <th>1</th>\n",
              "      <td>F</td>\n",
              "      <td>20</td>\n",
              "      <td>3.3</td>\n",
              "      <td>49</td>\n",
              "      <td>11.1</td>\n",
              "      <td>80.5</td>\n",
              "      <td>No</td>\n",
              "      <td>No</td>\n",
              "    </tr>\n",
              "    <tr>\n",
              "      <th>2</th>\n",
              "      <td>M</td>\n",
              "      <td>4</td>\n",
              "      <td>2.8</td>\n",
              "      <td>48</td>\n",
              "      <td>6.5</td>\n",
              "      <td>63.0</td>\n",
              "      <td>No</td>\n",
              "      <td>No</td>\n",
              "    </tr>\n",
              "    <tr>\n",
              "      <th>3</th>\n",
              "      <td>F</td>\n",
              "      <td>14</td>\n",
              "      <td>2.0</td>\n",
              "      <td>49</td>\n",
              "      <td>7.0</td>\n",
              "      <td>71.0</td>\n",
              "      <td>Yes</td>\n",
              "      <td>No</td>\n",
              "    </tr>\n",
              "    <tr>\n",
              "      <th>4</th>\n",
              "      <td>M</td>\n",
              "      <td>32</td>\n",
              "      <td>3.2</td>\n",
              "      <td>49</td>\n",
              "      <td>11.0</td>\n",
              "      <td>88.7</td>\n",
              "      <td>Yes</td>\n",
              "      <td>No</td>\n",
              "    </tr>\n",
              "    <tr>\n",
              "      <th>...</th>\n",
              "      <td>...</td>\n",
              "      <td>...</td>\n",
              "      <td>...</td>\n",
              "      <td>...</td>\n",
              "      <td>...</td>\n",
              "      <td>...</td>\n",
              "      <td>...</td>\n",
              "      <td>...</td>\n",
              "    </tr>\n",
              "    <tr>\n",
              "      <th>6495</th>\n",
              "      <td>M</td>\n",
              "      <td>53</td>\n",
              "      <td>2.9</td>\n",
              "      <td>49</td>\n",
              "      <td>15.0</td>\n",
              "      <td>96.0</td>\n",
              "      <td>No</td>\n",
              "      <td>Yes</td>\n",
              "    </tr>\n",
              "    <tr>\n",
              "      <th>6496</th>\n",
              "      <td>M</td>\n",
              "      <td>9</td>\n",
              "      <td>2.9</td>\n",
              "      <td>50</td>\n",
              "      <td>7.3</td>\n",
              "      <td>62.0</td>\n",
              "      <td>No</td>\n",
              "      <td>Yes</td>\n",
              "    </tr>\n",
              "    <tr>\n",
              "      <th>6497</th>\n",
              "      <td>F</td>\n",
              "      <td>20</td>\n",
              "      <td>1.8</td>\n",
              "      <td>48</td>\n",
              "      <td>7.3</td>\n",
              "      <td>73.0</td>\n",
              "      <td>Yes</td>\n",
              "      <td>Yes</td>\n",
              "    </tr>\n",
              "    <tr>\n",
              "      <th>6498</th>\n",
              "      <td>M</td>\n",
              "      <td>11</td>\n",
              "      <td>2.9</td>\n",
              "      <td>49</td>\n",
              "      <td>7.7</td>\n",
              "      <td>66.0</td>\n",
              "      <td>No</td>\n",
              "      <td>Yes</td>\n",
              "    </tr>\n",
              "    <tr>\n",
              "      <th>6499</th>\n",
              "      <td>F</td>\n",
              "      <td>14</td>\n",
              "      <td>2.9</td>\n",
              "      <td>49</td>\n",
              "      <td>6.5</td>\n",
              "      <td>66.0</td>\n",
              "      <td>No</td>\n",
              "      <td>Yes</td>\n",
              "    </tr>\n",
              "  </tbody>\n",
              "</table>\n",
              "<p>6500 rows × 8 columns</p>\n",
              "</div>\n",
              "      <button class=\"colab-df-convert\" onclick=\"convertToInteractive('df-8ee627bf-0716-4554-83d4-a6577b6b1211')\"\n",
              "              title=\"Convert this dataframe to an interactive table.\"\n",
              "              style=\"display:none;\">\n",
              "        \n",
              "  <svg xmlns=\"http://www.w3.org/2000/svg\" height=\"24px\"viewBox=\"0 0 24 24\"\n",
              "       width=\"24px\">\n",
              "    <path d=\"M0 0h24v24H0V0z\" fill=\"none\"/>\n",
              "    <path d=\"M18.56 5.44l.94 2.06.94-2.06 2.06-.94-2.06-.94-.94-2.06-.94 2.06-2.06.94zm-11 1L8.5 8.5l.94-2.06 2.06-.94-2.06-.94L8.5 2.5l-.94 2.06-2.06.94zm10 10l.94 2.06.94-2.06 2.06-.94-2.06-.94-.94-2.06-.94 2.06-2.06.94z\"/><path d=\"M17.41 7.96l-1.37-1.37c-.4-.4-.92-.59-1.43-.59-.52 0-1.04.2-1.43.59L10.3 9.45l-7.72 7.72c-.78.78-.78 2.05 0 2.83L4 21.41c.39.39.9.59 1.41.59.51 0 1.02-.2 1.41-.59l7.78-7.78 2.81-2.81c.8-.78.8-2.07 0-2.86zM5.41 20L4 18.59l7.72-7.72 1.47 1.35L5.41 20z\"/>\n",
              "  </svg>\n",
              "      </button>\n",
              "      \n",
              "  <style>\n",
              "    .colab-df-container {\n",
              "      display:flex;\n",
              "      flex-wrap:wrap;\n",
              "      gap: 12px;\n",
              "    }\n",
              "\n",
              "    .colab-df-convert {\n",
              "      background-color: #E8F0FE;\n",
              "      border: none;\n",
              "      border-radius: 50%;\n",
              "      cursor: pointer;\n",
              "      display: none;\n",
              "      fill: #1967D2;\n",
              "      height: 32px;\n",
              "      padding: 0 0 0 0;\n",
              "      width: 32px;\n",
              "    }\n",
              "\n",
              "    .colab-df-convert:hover {\n",
              "      background-color: #E2EBFA;\n",
              "      box-shadow: 0px 1px 2px rgba(60, 64, 67, 0.3), 0px 1px 3px 1px rgba(60, 64, 67, 0.15);\n",
              "      fill: #174EA6;\n",
              "    }\n",
              "\n",
              "    [theme=dark] .colab-df-convert {\n",
              "      background-color: #3B4455;\n",
              "      fill: #D2E3FC;\n",
              "    }\n",
              "\n",
              "    [theme=dark] .colab-df-convert:hover {\n",
              "      background-color: #434B5C;\n",
              "      box-shadow: 0px 1px 3px 1px rgba(0, 0, 0, 0.15);\n",
              "      filter: drop-shadow(0px 1px 2px rgba(0, 0, 0, 0.3));\n",
              "      fill: #FFFFFF;\n",
              "    }\n",
              "  </style>\n",
              "\n",
              "      <script>\n",
              "        const buttonEl =\n",
              "          document.querySelector('#df-8ee627bf-0716-4554-83d4-a6577b6b1211 button.colab-df-convert');\n",
              "        buttonEl.style.display =\n",
              "          google.colab.kernel.accessAllowed ? 'block' : 'none';\n",
              "\n",
              "        async function convertToInteractive(key) {\n",
              "          const element = document.querySelector('#df-8ee627bf-0716-4554-83d4-a6577b6b1211');\n",
              "          const dataTable =\n",
              "            await google.colab.kernel.invokeFunction('convertToInteractive',\n",
              "                                                     [key], {});\n",
              "          if (!dataTable) return;\n",
              "\n",
              "          const docLinkHtml = 'Like what you see? Visit the ' +\n",
              "            '<a target=\"_blank\" href=https://colab.research.google.com/notebooks/data_table.ipynb>data table notebook</a>'\n",
              "            + ' to learn more about interactive tables.';\n",
              "          element.innerHTML = '';\n",
              "          dataTable['output_type'] = 'display_data';\n",
              "          await google.colab.output.renderOutput(dataTable, element);\n",
              "          const docLink = document.createElement('div');\n",
              "          docLink.innerHTML = docLinkHtml;\n",
              "          element.appendChild(docLink);\n",
              "        }\n",
              "      </script>\n",
              "    </div>\n",
              "  </div>\n",
              "  "
            ]
          },
          "metadata": {},
          "execution_count": 26
        }
      ]
    },
    {
      "cell_type": "code",
      "source": [
        "#Finding Missing Data\n",
        "df.isnull().sum()"
      ],
      "metadata": {
        "colab": {
          "base_uri": "https://localhost:8080/"
        },
        "id": "BchaZ8T-V1AB",
        "outputId": "26ba92f3-9cfa-486b-beaf-976e082e0d7a"
      },
      "execution_count": null,
      "outputs": [
        {
          "output_type": "execute_result",
          "data": {
            "text/plain": [
              "Sex              0\n",
              "Age              0\n",
              "Birth Weight     0\n",
              "Birth Length     0\n",
              "Body Weight      0\n",
              "Body Length      0\n",
              "ASI Eksklusif    0\n",
              "Stunting         0\n",
              "dtype: int64"
            ]
          },
          "metadata": {},
          "execution_count": 27
        }
      ]
    },
    {
      "cell_type": "code",
      "source": [
        "#Counting Stunting Case for each case\n",
        "df['Stunting'].value_counts()"
      ],
      "metadata": {
        "colab": {
          "base_uri": "https://localhost:8080/"
        },
        "id": "rkHNfWx78TYR",
        "outputId": "8aa36497-3c81-474f-a7df-53b31c57cc3d"
      },
      "execution_count": null,
      "outputs": [
        {
          "output_type": "execute_result",
          "data": {
            "text/plain": [
              "Yes    3312\n",
              "No     3188\n",
              "Name: Stunting, dtype: int64"
            ]
          },
          "metadata": {},
          "execution_count": 28
        }
      ]
    },
    {
      "cell_type": "code",
      "source": [
        "#Display Information of Dataset\n",
        "df.info()"
      ],
      "metadata": {
        "colab": {
          "base_uri": "https://localhost:8080/"
        },
        "id": "phmG5Tw4VlHd",
        "outputId": "a3d8475b-4a21-4cc9-89fd-28243e75f224"
      },
      "execution_count": null,
      "outputs": [
        {
          "output_type": "stream",
          "name": "stdout",
          "text": [
            "<class 'pandas.core.frame.DataFrame'>\n",
            "RangeIndex: 6500 entries, 0 to 6499\n",
            "Data columns (total 8 columns):\n",
            " #   Column         Non-Null Count  Dtype  \n",
            "---  ------         --------------  -----  \n",
            " 0   Sex            6500 non-null   object \n",
            " 1   Age            6500 non-null   int64  \n",
            " 2   Birth Weight   6500 non-null   float64\n",
            " 3   Birth Length   6500 non-null   int64  \n",
            " 4   Body Weight    6500 non-null   float64\n",
            " 5   Body Length    6500 non-null   float64\n",
            " 6   ASI Eksklusif  6500 non-null   object \n",
            " 7   Stunting       6500 non-null   object \n",
            "dtypes: float64(3), int64(2), object(3)\n",
            "memory usage: 406.4+ KB\n"
          ]
        }
      ]
    },
    {
      "cell_type": "code",
      "source": [
        "#Checking the Dimension of dataset\n",
        "df.shape"
      ],
      "metadata": {
        "colab": {
          "base_uri": "https://localhost:8080/"
        },
        "id": "R0isNoopJ6oK",
        "outputId": "96dcf9a1-3701-449b-b871-1b8da051c854"
      },
      "execution_count": null,
      "outputs": [
        {
          "output_type": "execute_result",
          "data": {
            "text/plain": [
              "(6500, 8)"
            ]
          },
          "metadata": {},
          "execution_count": 30
        }
      ]
    },
    {
      "cell_type": "code",
      "source": [
        "# Make dictionary for label encoding\n",
        "sex_encoding = {'M': 1, 'F': 0}\n",
        "asi_encoding = {'No': 0, 'Yes': 1}\n",
        "stunting_encoding = {'No': 0, 'Yes': 1}\n",
        "\n",
        "# Doing label encoding using map method\n",
        "df['Sex'] = df['Sex'].map(sex_encoding)\n",
        "df['ASI Eksklusif'] = df['ASI Eksklusif'].map(asi_encoding)\n",
        "df['Stunting'] = df['Stunting'].map(stunting_encoding)\n",
        "\n",
        "df"
      ],
      "metadata": {
        "colab": {
          "base_uri": "https://localhost:8080/",
          "height": 423
        },
        "id": "uczylmLapVZg",
        "outputId": "2a60a307-d8b4-4e3d-dd6a-1bac77aeb68b"
      },
      "execution_count": null,
      "outputs": [
        {
          "output_type": "execute_result",
          "data": {
            "text/plain": [
              "      Sex  Age  Birth Weight  Birth Length  Body Weight  Body Length  \\\n",
              "0       0   56           2.9            50         11.0         90.0   \n",
              "1       0   20           3.3            49         11.1         80.5   \n",
              "2       1    4           2.8            48          6.5         63.0   \n",
              "3       0   14           2.0            49          7.0         71.0   \n",
              "4       1   32           3.2            49         11.0         88.7   \n",
              "...   ...  ...           ...           ...          ...          ...   \n",
              "6495    1   53           2.9            49         15.0         96.0   \n",
              "6496    1    9           2.9            50          7.3         62.0   \n",
              "6497    0   20           1.8            48          7.3         73.0   \n",
              "6498    1   11           2.9            49          7.7         66.0   \n",
              "6499    0   14           2.9            49          6.5         66.0   \n",
              "\n",
              "      ASI Eksklusif  Stunting  \n",
              "0                 1         0  \n",
              "1                 0         0  \n",
              "2                 0         0  \n",
              "3                 1         0  \n",
              "4                 1         0  \n",
              "...             ...       ...  \n",
              "6495              0         1  \n",
              "6496              0         1  \n",
              "6497              1         1  \n",
              "6498              0         1  \n",
              "6499              0         1  \n",
              "\n",
              "[6500 rows x 8 columns]"
            ],
            "text/html": [
              "\n",
              "  <div id=\"df-e87a57a0-7cfe-4ac5-94e2-71600e9c451e\">\n",
              "    <div class=\"colab-df-container\">\n",
              "      <div>\n",
              "<style scoped>\n",
              "    .dataframe tbody tr th:only-of-type {\n",
              "        vertical-align: middle;\n",
              "    }\n",
              "\n",
              "    .dataframe tbody tr th {\n",
              "        vertical-align: top;\n",
              "    }\n",
              "\n",
              "    .dataframe thead th {\n",
              "        text-align: right;\n",
              "    }\n",
              "</style>\n",
              "<table border=\"1\" class=\"dataframe\">\n",
              "  <thead>\n",
              "    <tr style=\"text-align: right;\">\n",
              "      <th></th>\n",
              "      <th>Sex</th>\n",
              "      <th>Age</th>\n",
              "      <th>Birth Weight</th>\n",
              "      <th>Birth Length</th>\n",
              "      <th>Body Weight</th>\n",
              "      <th>Body Length</th>\n",
              "      <th>ASI Eksklusif</th>\n",
              "      <th>Stunting</th>\n",
              "    </tr>\n",
              "  </thead>\n",
              "  <tbody>\n",
              "    <tr>\n",
              "      <th>0</th>\n",
              "      <td>0</td>\n",
              "      <td>56</td>\n",
              "      <td>2.9</td>\n",
              "      <td>50</td>\n",
              "      <td>11.0</td>\n",
              "      <td>90.0</td>\n",
              "      <td>1</td>\n",
              "      <td>0</td>\n",
              "    </tr>\n",
              "    <tr>\n",
              "      <th>1</th>\n",
              "      <td>0</td>\n",
              "      <td>20</td>\n",
              "      <td>3.3</td>\n",
              "      <td>49</td>\n",
              "      <td>11.1</td>\n",
              "      <td>80.5</td>\n",
              "      <td>0</td>\n",
              "      <td>0</td>\n",
              "    </tr>\n",
              "    <tr>\n",
              "      <th>2</th>\n",
              "      <td>1</td>\n",
              "      <td>4</td>\n",
              "      <td>2.8</td>\n",
              "      <td>48</td>\n",
              "      <td>6.5</td>\n",
              "      <td>63.0</td>\n",
              "      <td>0</td>\n",
              "      <td>0</td>\n",
              "    </tr>\n",
              "    <tr>\n",
              "      <th>3</th>\n",
              "      <td>0</td>\n",
              "      <td>14</td>\n",
              "      <td>2.0</td>\n",
              "      <td>49</td>\n",
              "      <td>7.0</td>\n",
              "      <td>71.0</td>\n",
              "      <td>1</td>\n",
              "      <td>0</td>\n",
              "    </tr>\n",
              "    <tr>\n",
              "      <th>4</th>\n",
              "      <td>1</td>\n",
              "      <td>32</td>\n",
              "      <td>3.2</td>\n",
              "      <td>49</td>\n",
              "      <td>11.0</td>\n",
              "      <td>88.7</td>\n",
              "      <td>1</td>\n",
              "      <td>0</td>\n",
              "    </tr>\n",
              "    <tr>\n",
              "      <th>...</th>\n",
              "      <td>...</td>\n",
              "      <td>...</td>\n",
              "      <td>...</td>\n",
              "      <td>...</td>\n",
              "      <td>...</td>\n",
              "      <td>...</td>\n",
              "      <td>...</td>\n",
              "      <td>...</td>\n",
              "    </tr>\n",
              "    <tr>\n",
              "      <th>6495</th>\n",
              "      <td>1</td>\n",
              "      <td>53</td>\n",
              "      <td>2.9</td>\n",
              "      <td>49</td>\n",
              "      <td>15.0</td>\n",
              "      <td>96.0</td>\n",
              "      <td>0</td>\n",
              "      <td>1</td>\n",
              "    </tr>\n",
              "    <tr>\n",
              "      <th>6496</th>\n",
              "      <td>1</td>\n",
              "      <td>9</td>\n",
              "      <td>2.9</td>\n",
              "      <td>50</td>\n",
              "      <td>7.3</td>\n",
              "      <td>62.0</td>\n",
              "      <td>0</td>\n",
              "      <td>1</td>\n",
              "    </tr>\n",
              "    <tr>\n",
              "      <th>6497</th>\n",
              "      <td>0</td>\n",
              "      <td>20</td>\n",
              "      <td>1.8</td>\n",
              "      <td>48</td>\n",
              "      <td>7.3</td>\n",
              "      <td>73.0</td>\n",
              "      <td>1</td>\n",
              "      <td>1</td>\n",
              "    </tr>\n",
              "    <tr>\n",
              "      <th>6498</th>\n",
              "      <td>1</td>\n",
              "      <td>11</td>\n",
              "      <td>2.9</td>\n",
              "      <td>49</td>\n",
              "      <td>7.7</td>\n",
              "      <td>66.0</td>\n",
              "      <td>0</td>\n",
              "      <td>1</td>\n",
              "    </tr>\n",
              "    <tr>\n",
              "      <th>6499</th>\n",
              "      <td>0</td>\n",
              "      <td>14</td>\n",
              "      <td>2.9</td>\n",
              "      <td>49</td>\n",
              "      <td>6.5</td>\n",
              "      <td>66.0</td>\n",
              "      <td>0</td>\n",
              "      <td>1</td>\n",
              "    </tr>\n",
              "  </tbody>\n",
              "</table>\n",
              "<p>6500 rows × 8 columns</p>\n",
              "</div>\n",
              "      <button class=\"colab-df-convert\" onclick=\"convertToInteractive('df-e87a57a0-7cfe-4ac5-94e2-71600e9c451e')\"\n",
              "              title=\"Convert this dataframe to an interactive table.\"\n",
              "              style=\"display:none;\">\n",
              "        \n",
              "  <svg xmlns=\"http://www.w3.org/2000/svg\" height=\"24px\"viewBox=\"0 0 24 24\"\n",
              "       width=\"24px\">\n",
              "    <path d=\"M0 0h24v24H0V0z\" fill=\"none\"/>\n",
              "    <path d=\"M18.56 5.44l.94 2.06.94-2.06 2.06-.94-2.06-.94-.94-2.06-.94 2.06-2.06.94zm-11 1L8.5 8.5l.94-2.06 2.06-.94-2.06-.94L8.5 2.5l-.94 2.06-2.06.94zm10 10l.94 2.06.94-2.06 2.06-.94-2.06-.94-.94-2.06-.94 2.06-2.06.94z\"/><path d=\"M17.41 7.96l-1.37-1.37c-.4-.4-.92-.59-1.43-.59-.52 0-1.04.2-1.43.59L10.3 9.45l-7.72 7.72c-.78.78-.78 2.05 0 2.83L4 21.41c.39.39.9.59 1.41.59.51 0 1.02-.2 1.41-.59l7.78-7.78 2.81-2.81c.8-.78.8-2.07 0-2.86zM5.41 20L4 18.59l7.72-7.72 1.47 1.35L5.41 20z\"/>\n",
              "  </svg>\n",
              "      </button>\n",
              "      \n",
              "  <style>\n",
              "    .colab-df-container {\n",
              "      display:flex;\n",
              "      flex-wrap:wrap;\n",
              "      gap: 12px;\n",
              "    }\n",
              "\n",
              "    .colab-df-convert {\n",
              "      background-color: #E8F0FE;\n",
              "      border: none;\n",
              "      border-radius: 50%;\n",
              "      cursor: pointer;\n",
              "      display: none;\n",
              "      fill: #1967D2;\n",
              "      height: 32px;\n",
              "      padding: 0 0 0 0;\n",
              "      width: 32px;\n",
              "    }\n",
              "\n",
              "    .colab-df-convert:hover {\n",
              "      background-color: #E2EBFA;\n",
              "      box-shadow: 0px 1px 2px rgba(60, 64, 67, 0.3), 0px 1px 3px 1px rgba(60, 64, 67, 0.15);\n",
              "      fill: #174EA6;\n",
              "    }\n",
              "\n",
              "    [theme=dark] .colab-df-convert {\n",
              "      background-color: #3B4455;\n",
              "      fill: #D2E3FC;\n",
              "    }\n",
              "\n",
              "    [theme=dark] .colab-df-convert:hover {\n",
              "      background-color: #434B5C;\n",
              "      box-shadow: 0px 1px 3px 1px rgba(0, 0, 0, 0.15);\n",
              "      filter: drop-shadow(0px 1px 2px rgba(0, 0, 0, 0.3));\n",
              "      fill: #FFFFFF;\n",
              "    }\n",
              "  </style>\n",
              "\n",
              "      <script>\n",
              "        const buttonEl =\n",
              "          document.querySelector('#df-e87a57a0-7cfe-4ac5-94e2-71600e9c451e button.colab-df-convert');\n",
              "        buttonEl.style.display =\n",
              "          google.colab.kernel.accessAllowed ? 'block' : 'none';\n",
              "\n",
              "        async function convertToInteractive(key) {\n",
              "          const element = document.querySelector('#df-e87a57a0-7cfe-4ac5-94e2-71600e9c451e');\n",
              "          const dataTable =\n",
              "            await google.colab.kernel.invokeFunction('convertToInteractive',\n",
              "                                                     [key], {});\n",
              "          if (!dataTable) return;\n",
              "\n",
              "          const docLinkHtml = 'Like what you see? Visit the ' +\n",
              "            '<a target=\"_blank\" href=https://colab.research.google.com/notebooks/data_table.ipynb>data table notebook</a>'\n",
              "            + ' to learn more about interactive tables.';\n",
              "          element.innerHTML = '';\n",
              "          dataTable['output_type'] = 'display_data';\n",
              "          await google.colab.output.renderOutput(dataTable, element);\n",
              "          const docLink = document.createElement('div');\n",
              "          docLink.innerHTML = docLinkHtml;\n",
              "          element.appendChild(docLink);\n",
              "        }\n",
              "      </script>\n",
              "    </div>\n",
              "  </div>\n",
              "  "
            ]
          },
          "metadata": {},
          "execution_count": 31
        }
      ]
    },
    {
      "cell_type": "code",
      "source": [
        "new = df.drop(columns=[\"Stunting\"])\n",
        "# Normalize the data using MinMaxScaler\n",
        "scaler = MinMaxScaler()\n",
        "normalized_data = scaler.fit_transform(new)\n",
        "\n",
        "# Convert the normalized data back to a DataFrame\n",
        "normalized_df = pd.DataFrame(normalized_data, columns=new.columns)\n",
        "\n",
        "# Save the normalization model using joblib\n",
        "joblib.dump(scaler, 'normalization_model.joblib')\n",
        "\n",
        "# Print the normalized DataFrame\n",
        "print(normalized_df)"
      ],
      "metadata": {
        "colab": {
          "base_uri": "https://localhost:8080/"
        },
        "id": "LME5qbGkXvaJ",
        "outputId": "77b1c825-5bf7-43a6-c4bf-5d43c9ab21ed"
      },
      "execution_count": null,
      "outputs": [
        {
          "output_type": "stream",
          "name": "stdout",
          "text": [
            "      Sex       Age  Birth Weight  Birth Length  Body Weight  Body Length  \\\n",
            "0     0.0  0.948276      0.500000      0.727273     0.375000     0.637931   \n",
            "1     0.0  0.327586      0.681818      0.636364     0.379630     0.474138   \n",
            "2     1.0  0.051724      0.454545      0.545455     0.166667     0.172414   \n",
            "3     0.0  0.224138      0.090909      0.636364     0.189815     0.310345   \n",
            "4     1.0  0.534483      0.636364      0.636364     0.375000     0.615517   \n",
            "...   ...       ...           ...           ...          ...          ...   \n",
            "6495  1.0  0.896552      0.500000      0.636364     0.560185     0.741379   \n",
            "6496  1.0  0.137931      0.500000      0.727273     0.203704     0.155172   \n",
            "6497  0.0  0.327586      0.000000      0.545455     0.203704     0.344828   \n",
            "6498  1.0  0.172414      0.500000      0.636364     0.222222     0.224138   \n",
            "6499  0.0  0.224138      0.500000      0.636364     0.166667     0.224138   \n",
            "\n",
            "      ASI Eksklusif  \n",
            "0               1.0  \n",
            "1               0.0  \n",
            "2               0.0  \n",
            "3               1.0  \n",
            "4               1.0  \n",
            "...             ...  \n",
            "6495            0.0  \n",
            "6496            0.0  \n",
            "6497            1.0  \n",
            "6498            0.0  \n",
            "6499            0.0  \n",
            "\n",
            "[6500 rows x 7 columns]\n"
          ]
        }
      ]
    },
    {
      "cell_type": "code",
      "source": [
        "#Data Splitting\n",
        "# Separating the Feature and Labels\n",
        "X = normalized_df\n",
        "y = df[\"Stunting\"]\n",
        "\n",
        "# Split the dataset into training and test sets\n",
        "X_train, X_test, y_train, y_test = train_test_split(X, y, test_size=0.1, random_state=64)"
      ],
      "metadata": {
        "id": "mz9jYlhQzIAU"
      },
      "execution_count": null,
      "outputs": []
    },
    {
      "cell_type": "markdown",
      "source": [
        "## **Model Architecture**"
      ],
      "metadata": {
        "id": "6mZQPlPywqvB"
      }
    },
    {
      "cell_type": "code",
      "source": [
        "model = tf.keras.Sequential([\n",
        "    tf.keras.layers.Dense(64, activation='relu', input_shape=(7,)),\n",
        "    tf.keras.layers.Dense(32, activation='relu'),\n",
        "    tf.keras.layers.Dense(16, activation='relu'),\n",
        "    tf.keras.layers.Dense(8, activation='relu'),\n",
        "    tf.keras.layers.Dense(1, activation='sigmoid')\n",
        "])"
      ],
      "metadata": {
        "id": "GV2iiaCxuqwU"
      },
      "execution_count": null,
      "outputs": []
    },
    {
      "cell_type": "code",
      "source": [
        "bce = tf.keras.losses.BinaryCrossentropy(from_logits=False)\n",
        "optimizer = tf.keras.optimizers.Adam(learning_rate=1e-3)\n",
        "\n",
        "model.compile(\n",
        "    loss=bce,\n",
        "    optimizer=optimizer,\n",
        "    metrics=['accuracy']\n",
        ")"
      ],
      "metadata": {
        "id": "uoUhB-Jv0qS8"
      },
      "execution_count": null,
      "outputs": []
    },
    {
      "cell_type": "code",
      "source": [
        "history = model.fit(X_train, y_train, epochs=100, batch_size=128, validation_data=(X_test, y_test))"
      ],
      "metadata": {
        "id": "V0eidbOPyOrJ",
        "colab": {
          "base_uri": "https://localhost:8080/"
        },
        "outputId": "ace9f7bc-2c51-4259-8ad9-c1de8e20a82a"
      },
      "execution_count": null,
      "outputs": [
        {
          "output_type": "stream",
          "name": "stdout",
          "text": [
            "Epoch 1/100\n",
            "46/46 [==============================] - 7s 9ms/step - loss: 0.6598 - accuracy: 0.6810 - val_loss: 0.6192 - val_accuracy: 0.6938\n",
            "Epoch 2/100\n",
            "46/46 [==============================] - 0s 5ms/step - loss: 0.5760 - accuracy: 0.7173 - val_loss: 0.5526 - val_accuracy: 0.7046\n",
            "Epoch 3/100\n",
            "46/46 [==============================] - 0s 5ms/step - loss: 0.5160 - accuracy: 0.7467 - val_loss: 0.4906 - val_accuracy: 0.7846\n",
            "Epoch 4/100\n",
            "46/46 [==============================] - 0s 5ms/step - loss: 0.4545 - accuracy: 0.8019 - val_loss: 0.4227 - val_accuracy: 0.8246\n",
            "Epoch 5/100\n",
            "46/46 [==============================] - 0s 5ms/step - loss: 0.4083 - accuracy: 0.8222 - val_loss: 0.3694 - val_accuracy: 0.8415\n",
            "Epoch 6/100\n",
            "46/46 [==============================] - 0s 5ms/step - loss: 0.3741 - accuracy: 0.8376 - val_loss: 0.3351 - val_accuracy: 0.8538\n",
            "Epoch 7/100\n",
            "46/46 [==============================] - 0s 5ms/step - loss: 0.3463 - accuracy: 0.8562 - val_loss: 0.3079 - val_accuracy: 0.8723\n",
            "Epoch 8/100\n",
            "46/46 [==============================] - 0s 5ms/step - loss: 0.3219 - accuracy: 0.8723 - val_loss: 0.2890 - val_accuracy: 0.8815\n",
            "Epoch 9/100\n",
            "46/46 [==============================] - 0s 5ms/step - loss: 0.3107 - accuracy: 0.8795 - val_loss: 0.2816 - val_accuracy: 0.8892\n",
            "Epoch 10/100\n",
            "46/46 [==============================] - 0s 5ms/step - loss: 0.2971 - accuracy: 0.8860 - val_loss: 0.2610 - val_accuracy: 0.9031\n",
            "Epoch 11/100\n",
            "46/46 [==============================] - 0s 4ms/step - loss: 0.2955 - accuracy: 0.8903 - val_loss: 0.2883 - val_accuracy: 0.8677\n",
            "Epoch 12/100\n",
            "46/46 [==============================] - 0s 5ms/step - loss: 0.2800 - accuracy: 0.9000 - val_loss: 0.2405 - val_accuracy: 0.9062\n",
            "Epoch 13/100\n",
            "46/46 [==============================] - 0s 5ms/step - loss: 0.2722 - accuracy: 0.9103 - val_loss: 0.2337 - val_accuracy: 0.9062\n",
            "Epoch 14/100\n",
            "46/46 [==============================] - 0s 4ms/step - loss: 0.2685 - accuracy: 0.9096 - val_loss: 0.2259 - val_accuracy: 0.9277\n",
            "Epoch 15/100\n",
            "46/46 [==============================] - 0s 4ms/step - loss: 0.2663 - accuracy: 0.9048 - val_loss: 0.2230 - val_accuracy: 0.9292\n",
            "Epoch 16/100\n",
            "46/46 [==============================] - 0s 4ms/step - loss: 0.2561 - accuracy: 0.9168 - val_loss: 0.2205 - val_accuracy: 0.9169\n",
            "Epoch 17/100\n",
            "46/46 [==============================] - 0s 5ms/step - loss: 0.2570 - accuracy: 0.9168 - val_loss: 0.2155 - val_accuracy: 0.9262\n",
            "Epoch 18/100\n",
            "46/46 [==============================] - 0s 4ms/step - loss: 0.2520 - accuracy: 0.9179 - val_loss: 0.2351 - val_accuracy: 0.9246\n",
            "Epoch 19/100\n",
            "46/46 [==============================] - 0s 4ms/step - loss: 0.2471 - accuracy: 0.9197 - val_loss: 0.2138 - val_accuracy: 0.9354\n",
            "Epoch 20/100\n",
            "46/46 [==============================] - 0s 4ms/step - loss: 0.2463 - accuracy: 0.9212 - val_loss: 0.2133 - val_accuracy: 0.9323\n",
            "Epoch 21/100\n",
            "46/46 [==============================] - 0s 4ms/step - loss: 0.2408 - accuracy: 0.9219 - val_loss: 0.2077 - val_accuracy: 0.9354\n",
            "Epoch 22/100\n",
            "46/46 [==============================] - 0s 4ms/step - loss: 0.2545 - accuracy: 0.9169 - val_loss: 0.2047 - val_accuracy: 0.9338\n",
            "Epoch 23/100\n",
            "46/46 [==============================] - 0s 4ms/step - loss: 0.2393 - accuracy: 0.9200 - val_loss: 0.2041 - val_accuracy: 0.9277\n",
            "Epoch 24/100\n",
            "46/46 [==============================] - 0s 5ms/step - loss: 0.2338 - accuracy: 0.9263 - val_loss: 0.2011 - val_accuracy: 0.9308\n",
            "Epoch 25/100\n",
            "46/46 [==============================] - 0s 4ms/step - loss: 0.2300 - accuracy: 0.9277 - val_loss: 0.1965 - val_accuracy: 0.9400\n",
            "Epoch 26/100\n",
            "46/46 [==============================] - 0s 5ms/step - loss: 0.2287 - accuracy: 0.9284 - val_loss: 0.1968 - val_accuracy: 0.9369\n",
            "Epoch 27/100\n",
            "46/46 [==============================] - 0s 5ms/step - loss: 0.2310 - accuracy: 0.9250 - val_loss: 0.2000 - val_accuracy: 0.9338\n",
            "Epoch 28/100\n",
            "46/46 [==============================] - 0s 5ms/step - loss: 0.2257 - accuracy: 0.9285 - val_loss: 0.1871 - val_accuracy: 0.9415\n",
            "Epoch 29/100\n",
            "46/46 [==============================] - 0s 5ms/step - loss: 0.2158 - accuracy: 0.9338 - val_loss: 0.1824 - val_accuracy: 0.9400\n",
            "Epoch 30/100\n",
            "46/46 [==============================] - 0s 7ms/step - loss: 0.2194 - accuracy: 0.9304 - val_loss: 0.1827 - val_accuracy: 0.9415\n",
            "Epoch 31/100\n",
            "46/46 [==============================] - 0s 7ms/step - loss: 0.2202 - accuracy: 0.9270 - val_loss: 0.1806 - val_accuracy: 0.9385\n",
            "Epoch 32/100\n",
            "46/46 [==============================] - 0s 7ms/step - loss: 0.2080 - accuracy: 0.9383 - val_loss: 0.1746 - val_accuracy: 0.9354\n",
            "Epoch 33/100\n",
            "46/46 [==============================] - 0s 7ms/step - loss: 0.2068 - accuracy: 0.9364 - val_loss: 0.1767 - val_accuracy: 0.9446\n",
            "Epoch 34/100\n",
            "46/46 [==============================] - 0s 7ms/step - loss: 0.2124 - accuracy: 0.9318 - val_loss: 0.1770 - val_accuracy: 0.9369\n",
            "Epoch 35/100\n",
            "46/46 [==============================] - 0s 7ms/step - loss: 0.1994 - accuracy: 0.9373 - val_loss: 0.1710 - val_accuracy: 0.9415\n",
            "Epoch 36/100\n",
            "46/46 [==============================] - 0s 7ms/step - loss: 0.1957 - accuracy: 0.9402 - val_loss: 0.1688 - val_accuracy: 0.9354\n",
            "Epoch 37/100\n",
            "46/46 [==============================] - 0s 7ms/step - loss: 0.1972 - accuracy: 0.9379 - val_loss: 0.1669 - val_accuracy: 0.9400\n",
            "Epoch 38/100\n",
            "46/46 [==============================] - 0s 7ms/step - loss: 0.1948 - accuracy: 0.9388 - val_loss: 0.1627 - val_accuracy: 0.9431\n",
            "Epoch 39/100\n",
            "46/46 [==============================] - 0s 7ms/step - loss: 0.1979 - accuracy: 0.9350 - val_loss: 0.1745 - val_accuracy: 0.9385\n",
            "Epoch 40/100\n",
            "46/46 [==============================] - 0s 8ms/step - loss: 0.1873 - accuracy: 0.9431 - val_loss: 0.1597 - val_accuracy: 0.9446\n",
            "Epoch 41/100\n",
            "46/46 [==============================] - 0s 5ms/step - loss: 0.1869 - accuracy: 0.9419 - val_loss: 0.1550 - val_accuracy: 0.9431\n",
            "Epoch 42/100\n",
            "46/46 [==============================] - 0s 4ms/step - loss: 0.1821 - accuracy: 0.9448 - val_loss: 0.1553 - val_accuracy: 0.9477\n",
            "Epoch 43/100\n",
            "46/46 [==============================] - 0s 5ms/step - loss: 0.1786 - accuracy: 0.9453 - val_loss: 0.1639 - val_accuracy: 0.9385\n",
            "Epoch 44/100\n",
            "46/46 [==============================] - 0s 4ms/step - loss: 0.1772 - accuracy: 0.9470 - val_loss: 0.1572 - val_accuracy: 0.9508\n",
            "Epoch 45/100\n",
            "46/46 [==============================] - 0s 5ms/step - loss: 0.1766 - accuracy: 0.9458 - val_loss: 0.1675 - val_accuracy: 0.9477\n",
            "Epoch 46/100\n",
            "46/46 [==============================] - 0s 4ms/step - loss: 0.1757 - accuracy: 0.9484 - val_loss: 0.1571 - val_accuracy: 0.9462\n",
            "Epoch 47/100\n",
            "46/46 [==============================] - 0s 5ms/step - loss: 0.1751 - accuracy: 0.9451 - val_loss: 0.1743 - val_accuracy: 0.9446\n",
            "Epoch 48/100\n",
            "46/46 [==============================] - 0s 4ms/step - loss: 0.1712 - accuracy: 0.9480 - val_loss: 0.1544 - val_accuracy: 0.9492\n",
            "Epoch 49/100\n",
            "46/46 [==============================] - 0s 5ms/step - loss: 0.1671 - accuracy: 0.9504 - val_loss: 0.1485 - val_accuracy: 0.9600\n",
            "Epoch 50/100\n",
            "46/46 [==============================] - 0s 5ms/step - loss: 0.1663 - accuracy: 0.9503 - val_loss: 0.1403 - val_accuracy: 0.9692\n",
            "Epoch 51/100\n",
            "46/46 [==============================] - 0s 5ms/step - loss: 0.1654 - accuracy: 0.9523 - val_loss: 0.1486 - val_accuracy: 0.9538\n",
            "Epoch 52/100\n",
            "46/46 [==============================] - 0s 4ms/step - loss: 0.1694 - accuracy: 0.9475 - val_loss: 0.1691 - val_accuracy: 0.9462\n",
            "Epoch 53/100\n",
            "46/46 [==============================] - 0s 4ms/step - loss: 0.1652 - accuracy: 0.9516 - val_loss: 0.1429 - val_accuracy: 0.9662\n",
            "Epoch 54/100\n",
            "46/46 [==============================] - 0s 5ms/step - loss: 0.1627 - accuracy: 0.9506 - val_loss: 0.1447 - val_accuracy: 0.9523\n",
            "Epoch 55/100\n",
            "46/46 [==============================] - 0s 5ms/step - loss: 0.1712 - accuracy: 0.9472 - val_loss: 0.1858 - val_accuracy: 0.9323\n",
            "Epoch 56/100\n",
            "46/46 [==============================] - 0s 5ms/step - loss: 0.1845 - accuracy: 0.9403 - val_loss: 0.1398 - val_accuracy: 0.9585\n",
            "Epoch 57/100\n",
            "46/46 [==============================] - 0s 4ms/step - loss: 0.1602 - accuracy: 0.9552 - val_loss: 0.1448 - val_accuracy: 0.9523\n",
            "Epoch 58/100\n",
            "46/46 [==============================] - 0s 5ms/step - loss: 0.1574 - accuracy: 0.9516 - val_loss: 0.1440 - val_accuracy: 0.9538\n",
            "Epoch 59/100\n",
            "46/46 [==============================] - 0s 5ms/step - loss: 0.1548 - accuracy: 0.9547 - val_loss: 0.1368 - val_accuracy: 0.9646\n",
            "Epoch 60/100\n",
            "46/46 [==============================] - 0s 5ms/step - loss: 0.1518 - accuracy: 0.9597 - val_loss: 0.1431 - val_accuracy: 0.9523\n",
            "Epoch 61/100\n",
            "46/46 [==============================] - 0s 5ms/step - loss: 0.1507 - accuracy: 0.9581 - val_loss: 0.1343 - val_accuracy: 0.9662\n",
            "Epoch 62/100\n",
            "46/46 [==============================] - 0s 4ms/step - loss: 0.1563 - accuracy: 0.9521 - val_loss: 0.1455 - val_accuracy: 0.9477\n",
            "Epoch 63/100\n",
            "46/46 [==============================] - 0s 4ms/step - loss: 0.1534 - accuracy: 0.9550 - val_loss: 0.1436 - val_accuracy: 0.9631\n",
            "Epoch 64/100\n",
            "46/46 [==============================] - 0s 5ms/step - loss: 0.1548 - accuracy: 0.9533 - val_loss: 0.1528 - val_accuracy: 0.9631\n",
            "Epoch 65/100\n",
            "46/46 [==============================] - 0s 5ms/step - loss: 0.1502 - accuracy: 0.9561 - val_loss: 0.1383 - val_accuracy: 0.9508\n",
            "Epoch 66/100\n",
            "46/46 [==============================] - 0s 4ms/step - loss: 0.1492 - accuracy: 0.9547 - val_loss: 0.1401 - val_accuracy: 0.9554\n",
            "Epoch 67/100\n",
            "46/46 [==============================] - 0s 4ms/step - loss: 0.1508 - accuracy: 0.9538 - val_loss: 0.1337 - val_accuracy: 0.9723\n",
            "Epoch 68/100\n",
            "46/46 [==============================] - 0s 5ms/step - loss: 0.1525 - accuracy: 0.9549 - val_loss: 0.1350 - val_accuracy: 0.9646\n",
            "Epoch 69/100\n",
            "46/46 [==============================] - 0s 4ms/step - loss: 0.1494 - accuracy: 0.9561 - val_loss: 0.1504 - val_accuracy: 0.9492\n",
            "Epoch 70/100\n",
            "46/46 [==============================] - 0s 5ms/step - loss: 0.1477 - accuracy: 0.9571 - val_loss: 0.1448 - val_accuracy: 0.9600\n",
            "Epoch 71/100\n",
            "46/46 [==============================] - 0s 5ms/step - loss: 0.1453 - accuracy: 0.9593 - val_loss: 0.1318 - val_accuracy: 0.9677\n",
            "Epoch 72/100\n",
            "46/46 [==============================] - 0s 4ms/step - loss: 0.1455 - accuracy: 0.9602 - val_loss: 0.1308 - val_accuracy: 0.9646\n",
            "Epoch 73/100\n",
            "46/46 [==============================] - 0s 5ms/step - loss: 0.1453 - accuracy: 0.9576 - val_loss: 0.1351 - val_accuracy: 0.9569\n",
            "Epoch 74/100\n",
            "46/46 [==============================] - 0s 4ms/step - loss: 0.1443 - accuracy: 0.9576 - val_loss: 0.1298 - val_accuracy: 0.9600\n",
            "Epoch 75/100\n",
            "46/46 [==============================] - 0s 5ms/step - loss: 0.1462 - accuracy: 0.9578 - val_loss: 0.1383 - val_accuracy: 0.9646\n",
            "Epoch 76/100\n",
            "46/46 [==============================] - 0s 5ms/step - loss: 0.1447 - accuracy: 0.9573 - val_loss: 0.1480 - val_accuracy: 0.9554\n",
            "Epoch 77/100\n",
            "46/46 [==============================] - 0s 5ms/step - loss: 0.1404 - accuracy: 0.9586 - val_loss: 0.1327 - val_accuracy: 0.9631\n",
            "Epoch 78/100\n",
            "46/46 [==============================] - 0s 5ms/step - loss: 0.1466 - accuracy: 0.9568 - val_loss: 0.1293 - val_accuracy: 0.9631\n",
            "Epoch 79/100\n",
            "46/46 [==============================] - 0s 5ms/step - loss: 0.1494 - accuracy: 0.9554 - val_loss: 0.1358 - val_accuracy: 0.9708\n",
            "Epoch 80/100\n",
            "46/46 [==============================] - 0s 4ms/step - loss: 0.1412 - accuracy: 0.9595 - val_loss: 0.1396 - val_accuracy: 0.9523\n",
            "Epoch 81/100\n",
            "46/46 [==============================] - 0s 4ms/step - loss: 0.1413 - accuracy: 0.9595 - val_loss: 0.1539 - val_accuracy: 0.9523\n",
            "Epoch 82/100\n",
            "46/46 [==============================] - 0s 5ms/step - loss: 0.1440 - accuracy: 0.9557 - val_loss: 0.1250 - val_accuracy: 0.9600\n",
            "Epoch 83/100\n",
            "46/46 [==============================] - 0s 5ms/step - loss: 0.1387 - accuracy: 0.9600 - val_loss: 0.1251 - val_accuracy: 0.9662\n",
            "Epoch 84/100\n",
            "46/46 [==============================] - 0s 5ms/step - loss: 0.1373 - accuracy: 0.9602 - val_loss: 0.1266 - val_accuracy: 0.9708\n",
            "Epoch 85/100\n",
            "46/46 [==============================] - 0s 5ms/step - loss: 0.1364 - accuracy: 0.9614 - val_loss: 0.1257 - val_accuracy: 0.9600\n",
            "Epoch 86/100\n",
            "46/46 [==============================] - 0s 5ms/step - loss: 0.1351 - accuracy: 0.9603 - val_loss: 0.1223 - val_accuracy: 0.9662\n",
            "Epoch 87/100\n",
            "46/46 [==============================] - 0s 7ms/step - loss: 0.1348 - accuracy: 0.9579 - val_loss: 0.1224 - val_accuracy: 0.9677\n",
            "Epoch 88/100\n",
            "46/46 [==============================] - 0s 7ms/step - loss: 0.1353 - accuracy: 0.9614 - val_loss: 0.1209 - val_accuracy: 0.9662\n",
            "Epoch 89/100\n",
            "46/46 [==============================] - 0s 7ms/step - loss: 0.1346 - accuracy: 0.9612 - val_loss: 0.1225 - val_accuracy: 0.9646\n",
            "Epoch 90/100\n",
            "46/46 [==============================] - 0s 7ms/step - loss: 0.1393 - accuracy: 0.9568 - val_loss: 0.1226 - val_accuracy: 0.9692\n",
            "Epoch 91/100\n",
            "46/46 [==============================] - 0s 7ms/step - loss: 0.1339 - accuracy: 0.9609 - val_loss: 0.1202 - val_accuracy: 0.9662\n",
            "Epoch 92/100\n",
            "46/46 [==============================] - 0s 6ms/step - loss: 0.1320 - accuracy: 0.9622 - val_loss: 0.1238 - val_accuracy: 0.9708\n",
            "Epoch 93/100\n",
            "46/46 [==============================] - 0s 6ms/step - loss: 0.1310 - accuracy: 0.9621 - val_loss: 0.1233 - val_accuracy: 0.9646\n",
            "Epoch 94/100\n",
            "46/46 [==============================] - 0s 7ms/step - loss: 0.1328 - accuracy: 0.9617 - val_loss: 0.1392 - val_accuracy: 0.9600\n",
            "Epoch 95/100\n",
            "46/46 [==============================] - 0s 6ms/step - loss: 0.1361 - accuracy: 0.9602 - val_loss: 0.1233 - val_accuracy: 0.9662\n",
            "Epoch 96/100\n",
            "46/46 [==============================] - 0s 7ms/step - loss: 0.1335 - accuracy: 0.9612 - val_loss: 0.1202 - val_accuracy: 0.9738\n",
            "Epoch 97/100\n",
            "46/46 [==============================] - 0s 7ms/step - loss: 0.1283 - accuracy: 0.9644 - val_loss: 0.1256 - val_accuracy: 0.9585\n",
            "Epoch 98/100\n",
            "46/46 [==============================] - 0s 5ms/step - loss: 0.1294 - accuracy: 0.9632 - val_loss: 0.1265 - val_accuracy: 0.9585\n",
            "Epoch 99/100\n",
            "46/46 [==============================] - 0s 5ms/step - loss: 0.1384 - accuracy: 0.9605 - val_loss: 0.1252 - val_accuracy: 0.9585\n",
            "Epoch 100/100\n",
            "46/46 [==============================] - 0s 5ms/step - loss: 0.1379 - accuracy: 0.9595 - val_loss: 0.1272 - val_accuracy: 0.9738\n"
          ]
        }
      ]
    },
    {
      "cell_type": "code",
      "source": [
        "model.summary()"
      ],
      "metadata": {
        "id": "a9drHaPCzX7y",
        "colab": {
          "base_uri": "https://localhost:8080/"
        },
        "outputId": "f4b25fb1-9862-4c8b-f167-0bf25571e53a"
      },
      "execution_count": null,
      "outputs": [
        {
          "output_type": "stream",
          "name": "stdout",
          "text": [
            "Model: \"sequential_1\"\n",
            "_________________________________________________________________\n",
            " Layer (type)                Output Shape              Param #   \n",
            "=================================================================\n",
            " dense_5 (Dense)             (None, 64)                512       \n",
            "                                                                 \n",
            " dense_6 (Dense)             (None, 32)                2080      \n",
            "                                                                 \n",
            " dense_7 (Dense)             (None, 16)                528       \n",
            "                                                                 \n",
            " dense_8 (Dense)             (None, 8)                 136       \n",
            "                                                                 \n",
            " dense_9 (Dense)             (None, 1)                 9         \n",
            "                                                                 \n",
            "=================================================================\n",
            "Total params: 3,265\n",
            "Trainable params: 3,265\n",
            "Non-trainable params: 0\n",
            "_________________________________________________________________\n"
          ]
        }
      ]
    },
    {
      "cell_type": "code",
      "source": [
        "model.predict(np.array([[0,\t56,\t2.9,\t50,\t11,\t90,\t1\t]]))"
      ],
      "metadata": {
        "id": "4sbTnrW8QpIa",
        "colab": {
          "base_uri": "https://localhost:8080/"
        },
        "outputId": "e9277439-9cc0-4b07-acb6-abed88c272bc"
      },
      "execution_count": null,
      "outputs": [
        {
          "output_type": "stream",
          "name": "stdout",
          "text": [
            "1/1 [==============================] - 0s 87ms/step\n"
          ]
        },
        {
          "output_type": "execute_result",
          "data": {
            "text/plain": [
              "array([[0.]], dtype=float32)"
            ]
          },
          "metadata": {},
          "execution_count": 38
        }
      ]
    },
    {
      "cell_type": "markdown",
      "source": [
        "## **Model Evaluation**"
      ],
      "metadata": {
        "id": "ngN3IkUCDyCo"
      }
    },
    {
      "cell_type": "code",
      "source": [
        "# Make predictions on the test set\n",
        "y_pred = model.predict(X_test)\n",
        "\n",
        "# Convert continuous variable to binary labels\n",
        "threshold = 0.5\n",
        "y_pred_binary = (y_pred >= threshold).astype(int)\n",
        "\n",
        "# Create the confusion matrix\n",
        "confusion = confusion_matrix(y_pred_binary, y_test)\n",
        "\n",
        "# Create a heatmap of the confusion matrix\n",
        "sns.heatmap(confusion, annot=True, cmap=\"Blues\", fmt=\"d\")\n",
        "\n",
        "# Set the axis labels\n",
        "plt.xlabel(\"Predicted Labels\")\n",
        "plt.ylabel(\"True Labels\")\n",
        "\n",
        "# Set the title\n",
        "plt.title(\"Confusion Matrix\")\n",
        "\n",
        "# Display the plot\n",
        "plt.show()"
      ],
      "metadata": {
        "id": "ANIxQZ4NSKFx",
        "colab": {
          "base_uri": "https://localhost:8080/",
          "height": 490
        },
        "outputId": "8659cc08-f8fa-412e-e408-e1d6102f888b"
      },
      "execution_count": null,
      "outputs": [
        {
          "output_type": "stream",
          "name": "stdout",
          "text": [
            "21/21 [==============================] - 0s 1ms/step\n"
          ]
        },
        {
          "output_type": "display_data",
          "data": {
            "text/plain": [
              "<Figure size 640x480 with 2 Axes>"
            ],
            "image/png": "[encoded data removed]"
          },
          "metadata": {}
        }
      ]
    },
    {
      "cell_type": "code",
      "source": [
        "# Retrieve a list of list results on training and test data\n",
        "# sets for each training epoch\n",
        "acc = history.history['accuracy']\n",
        "val_acc = history.history['val_accuracy']\n",
        "loss = history.history['loss']\n",
        "val_loss = history.history['val_loss']\n",
        "\n",
        "epochs = range(len(acc))  # Get number of epochs\n",
        "\n",
        "# Plot training and validation accuracy per epoch\n",
        "plt.plot(epochs, acc, 'r', label=\"Training Accuracy\")\n",
        "plt.plot(epochs, val_acc, 'b', label=\"Validation Accuracy\")\n",
        "plt.title('Training and validation accuracy')\n",
        "plt.legend()  # Add legend to the plot\n",
        "plt.show()\n",
        "print(\"\")\n",
        "\n",
        "# Plot training and validation loss per epoch\n",
        "plt.plot(epochs, loss, 'r', label=\"Training Loss\")\n",
        "plt.plot(epochs, val_loss, 'b', label=\"Validation Loss\")\n",
        "plt.title('Training and validation loss')\n",
        "plt.legend()  # Add legend to the plot\n",
        "plt.show()\n"
      ],
      "metadata": {
        "id": "mEX8XrJ6Dtso",
        "colab": {
          "base_uri": "https://localhost:8080/",
          "height": 905
        },
        "outputId": "c766ddf0-b2ba-44e8-c2a8-2970ba2701d8"
      },
      "execution_count": null,
      "outputs": [
        {
          "output_type": "display_data",
          "data": {
            "text/plain": [
              "<Figure size 640x480 with 1 Axes>"
            ],
            "image/png": "[encoded data removed]"
          },
          "metadata": {}
        },
        {
          "output_type": "stream",
          "name": "stdout",
          "text": [
            "\n"
          ]
        },
        {
          "output_type": "display_data",
          "data": {
            "text/plain": [
              "<Figure size 640x480 with 1 Axes>"
            ],
            "image/png": "[encoded data removed]"
          },
          "metadata": {}
        }
      ]
    },
    {
      "cell_type": "markdown",
      "source": [
        "## **Save Model**"
      ],
      "metadata": {
        "id": "4W9scfz_IOMz"
      }
    },
    {
      "cell_type": "code",
      "source": [
        "# Save your model\n",
        "model.save('saved_model')"
      ],
      "metadata": {
        "id": "mL7IZruCINuE"
      },
      "execution_count": null,
      "outputs": []
    },
    {
      "cell_type": "code",
      "source": [
        "# Save your model\n",
        "model.save('model.h5')"
      ],
      "metadata": {
        "id": "BYo0W0ogHhf7"
      },
      "execution_count": null,
      "outputs": []
    },
    {
      "cell_type": "markdown",
      "source": [
        "## **Export the Model**"
      ],
      "metadata": {
        "id": "-KQquq5tVzSk"
      }
    },
    {
      "cell_type": "code",
      "source": [
        "# Convert the SavedModel to TFLite format with optimizations\n",
        "converter = tf.lite.TFLiteConverter.from_saved_model('saved_model')\n",
        "converter.optimizations = [tf.lite.Optimize.DEFAULT]  # Apply default optimizations\n",
        "tflite_model = converter.convert()\n",
        "\n",
        "# Save the TFLite model to a file\n",
        "with open('model.tflite', 'wb') as f:\n",
        "    f.write(tflite_model)\n"
      ],
      "metadata": {
        "id": "XoSCcHcZKAcv"
      },
      "execution_count": null,
      "outputs": []
    },
    {
      "cell_type": "code",
      "source": [],
      "metadata": {
        "id": "PVWHIiGg9RWW"
      },
      "execution_count": null,
      "outputs": []
    }
  ]
}